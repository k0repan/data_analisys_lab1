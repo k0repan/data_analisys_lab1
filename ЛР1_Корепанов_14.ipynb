{
 "cells": [
  {
   "cell_type": "markdown",
   "metadata": {
    "id": "bri_pAriNFqN"
   },
   "source": [
    "**Цель работы:**\n",
    "\n",
    "Осуществить предварительную обработку данных csv-файла, выявить и устранить проблемы в этих данных."
   ]
  },
  {
   "cell_type": "markdown",
   "metadata": {
    "id": "r_e-GeJmgZ8l"
   },
   "source": [
    "# Загрузка набора данных"
   ]
  },
  {
   "cell_type": "markdown",
   "metadata": {
    "id": "eeq9ZAbSguQS"
   },
   "source": [
    "### Описание предметной области"
   ]
  },
  {
   "cell_type": "markdown",
   "metadata": {
    "id": "XHbH8zNIg0Ib"
   },
   "source": [
    "Вариант №14\n",
    "\n",
    "Набор данных: clients.csv\n",
    "\n",
    "Атрибуты:\n",
    "1. уникальный идентификатор клиента\n",
    "2. год рождения клиента\n",
    "3. уровень образования клиента\n",
    "4. семейное положение клиента\n",
    "5. годовой доход семьи\n",
    "6. количество детей\n",
    "7. дата регистрации клиента в компании\n",
    "8. количество покупок"
   ]
  },
  {
   "cell_type": "markdown",
   "metadata": {
    "id": "Lwin9ia7hT1i"
   },
   "source": [
    "### 1.Чтение файла (набора данных)"
   ]
  },
  {
   "cell_type": "code",
   "execution_count": 1,
   "metadata": {
    "id": "a5dYQO5YhOYa"
   },
   "outputs": [],
   "source": [
    "# импорт библиотек, чтение файла с помощью pandas\n",
    "import pandas as pd\n",
    "df = pd.read_csv(\"clients.csv\", sep=';')"
   ]
  },
  {
   "cell_type": "markdown",
   "metadata": {
    "id": "p82p53SvhjLN"
   },
   "source": [
    "### 2. Обзор данных"
   ]
  },
  {
   "cell_type": "markdown",
   "metadata": {
    "id": "eAYzXaLrh-qh"
   },
   "source": [
    "2.1 Вывод первых 20 строк с помощью метода head."
   ]
  },
  {
   "cell_type": "code",
   "execution_count": 2,
   "metadata": {
    "id": "7yMo3VZ_hotx",
    "scrolled": true
   },
   "outputs": [
    {
     "data": {
      "text/html": [
       "<div>\n",
       "<style scoped>\n",
       "    .dataframe tbody tr th:only-of-type {\n",
       "        vertical-align: middle;\n",
       "    }\n",
       "\n",
       "    .dataframe tbody tr th {\n",
       "        vertical-align: top;\n",
       "    }\n",
       "\n",
       "    .dataframe thead th {\n",
       "        text-align: right;\n",
       "    }\n",
       "</style>\n",
       "<table border=\"1\" class=\"dataframe\">\n",
       "  <thead>\n",
       "    <tr style=\"text-align: right;\">\n",
       "      <th></th>\n",
       "      <th>ID</th>\n",
       "      <th>Year_Birth</th>\n",
       "      <th>Education</th>\n",
       "      <th>Marital_Status</th>\n",
       "      <th>Income</th>\n",
       "      <th>Kidhome</th>\n",
       "      <th>Dt_Customer</th>\n",
       "      <th>NumDealsPurchases</th>\n",
       "    </tr>\n",
       "  </thead>\n",
       "  <tbody>\n",
       "    <tr>\n",
       "      <th>0</th>\n",
       "      <td>5524</td>\n",
       "      <td>1957</td>\n",
       "      <td>Graduation</td>\n",
       "      <td>Single</td>\n",
       "      <td>58138.0</td>\n",
       "      <td>0.0</td>\n",
       "      <td>04.09.2012</td>\n",
       "      <td>3.0</td>\n",
       "    </tr>\n",
       "    <tr>\n",
       "      <th>1</th>\n",
       "      <td>2174</td>\n",
       "      <td>1954</td>\n",
       "      <td>Graduation</td>\n",
       "      <td>Single</td>\n",
       "      <td>46344.0</td>\n",
       "      <td>1.0</td>\n",
       "      <td>08.03.2014</td>\n",
       "      <td>2.0</td>\n",
       "    </tr>\n",
       "    <tr>\n",
       "      <th>2</th>\n",
       "      <td>4141</td>\n",
       "      <td>1965</td>\n",
       "      <td>Graduation</td>\n",
       "      <td>Together</td>\n",
       "      <td>71613.0</td>\n",
       "      <td>0.0</td>\n",
       "      <td>21.08.2013</td>\n",
       "      <td>1.0</td>\n",
       "    </tr>\n",
       "    <tr>\n",
       "      <th>3</th>\n",
       "      <td>6182</td>\n",
       "      <td>1984</td>\n",
       "      <td>Graduation</td>\n",
       "      <td>Together</td>\n",
       "      <td>26646.0</td>\n",
       "      <td>1.0</td>\n",
       "      <td>10.02.2014</td>\n",
       "      <td>2.0</td>\n",
       "    </tr>\n",
       "    <tr>\n",
       "      <th>4</th>\n",
       "      <td>5324</td>\n",
       "      <td>1981</td>\n",
       "      <td>PhD</td>\n",
       "      <td>Married</td>\n",
       "      <td>58293.0</td>\n",
       "      <td>1.0</td>\n",
       "      <td>19.01.2014</td>\n",
       "      <td>5.0</td>\n",
       "    </tr>\n",
       "    <tr>\n",
       "      <th>5</th>\n",
       "      <td>7446</td>\n",
       "      <td>1967</td>\n",
       "      <td>Master</td>\n",
       "      <td>Together</td>\n",
       "      <td>62513.0</td>\n",
       "      <td>0.0</td>\n",
       "      <td>09.09.2013</td>\n",
       "      <td>2.0</td>\n",
       "    </tr>\n",
       "    <tr>\n",
       "      <th>6</th>\n",
       "      <td>965</td>\n",
       "      <td>1971</td>\n",
       "      <td>Graduation</td>\n",
       "      <td>Divorced</td>\n",
       "      <td>55635.0</td>\n",
       "      <td>0.0</td>\n",
       "      <td>13.11.2012</td>\n",
       "      <td>4.0</td>\n",
       "    </tr>\n",
       "    <tr>\n",
       "      <th>7</th>\n",
       "      <td>6177</td>\n",
       "      <td>1985</td>\n",
       "      <td>PhD</td>\n",
       "      <td>Married</td>\n",
       "      <td>33454.0</td>\n",
       "      <td>1.0</td>\n",
       "      <td>08.05.2013</td>\n",
       "      <td>2.0</td>\n",
       "    </tr>\n",
       "    <tr>\n",
       "      <th>8</th>\n",
       "      <td>4855</td>\n",
       "      <td>1974</td>\n",
       "      <td>PhD</td>\n",
       "      <td>Together</td>\n",
       "      <td>30351.0</td>\n",
       "      <td>1.0</td>\n",
       "      <td>06.06.2013</td>\n",
       "      <td>1.0</td>\n",
       "    </tr>\n",
       "    <tr>\n",
       "      <th>9</th>\n",
       "      <td>5899</td>\n",
       "      <td>1950</td>\n",
       "      <td>PhD</td>\n",
       "      <td>Together</td>\n",
       "      <td>5648.0</td>\n",
       "      <td>1.0</td>\n",
       "      <td>13.03.2014</td>\n",
       "      <td>1.0</td>\n",
       "    </tr>\n",
       "    <tr>\n",
       "      <th>10</th>\n",
       "      <td>1994</td>\n",
       "      <td>1983</td>\n",
       "      <td>Graduation</td>\n",
       "      <td>MARRIED</td>\n",
       "      <td>NaN</td>\n",
       "      <td>NaN</td>\n",
       "      <td>NaN</td>\n",
       "      <td>NaN</td>\n",
       "    </tr>\n",
       "    <tr>\n",
       "      <th>11</th>\n",
       "      <td>387</td>\n",
       "      <td>1976</td>\n",
       "      <td>Basic</td>\n",
       "      <td>Married</td>\n",
       "      <td>7500.0</td>\n",
       "      <td>0.0</td>\n",
       "      <td>13.11.2012</td>\n",
       "      <td>1.0</td>\n",
       "    </tr>\n",
       "    <tr>\n",
       "      <th>12</th>\n",
       "      <td>2125</td>\n",
       "      <td>1959</td>\n",
       "      <td>Graduation</td>\n",
       "      <td>Divorced</td>\n",
       "      <td>63033.0</td>\n",
       "      <td>0.0</td>\n",
       "      <td>15.11.2013</td>\n",
       "      <td>1.0</td>\n",
       "    </tr>\n",
       "    <tr>\n",
       "      <th>13</th>\n",
       "      <td>8180</td>\n",
       "      <td>1952</td>\n",
       "      <td>Master</td>\n",
       "      <td>Divorced</td>\n",
       "      <td>59354.0</td>\n",
       "      <td>1.0</td>\n",
       "      <td>15.11.2013</td>\n",
       "      <td>3.0</td>\n",
       "    </tr>\n",
       "    <tr>\n",
       "      <th>14</th>\n",
       "      <td>2569</td>\n",
       "      <td>1987</td>\n",
       "      <td>Graduation</td>\n",
       "      <td>Married</td>\n",
       "      <td>17323.0</td>\n",
       "      <td>0.0</td>\n",
       "      <td>10.10.2012</td>\n",
       "      <td>1.0</td>\n",
       "    </tr>\n",
       "    <tr>\n",
       "      <th>15</th>\n",
       "      <td>2114</td>\n",
       "      <td>1946</td>\n",
       "      <td>PhD</td>\n",
       "      <td>SINGL</td>\n",
       "      <td>82800.0</td>\n",
       "      <td>0.0</td>\n",
       "      <td>24.11.2012</td>\n",
       "      <td>1.0</td>\n",
       "    </tr>\n",
       "    <tr>\n",
       "      <th>16</th>\n",
       "      <td>9736</td>\n",
       "      <td>1980</td>\n",
       "      <td>Graduation</td>\n",
       "      <td>Married</td>\n",
       "      <td>41850.0</td>\n",
       "      <td>1.0</td>\n",
       "      <td>24.12.2012</td>\n",
       "      <td>3.0</td>\n",
       "    </tr>\n",
       "    <tr>\n",
       "      <th>17</th>\n",
       "      <td>4939</td>\n",
       "      <td>1946</td>\n",
       "      <td>Graduation</td>\n",
       "      <td>Together</td>\n",
       "      <td>37760.0</td>\n",
       "      <td>0.0</td>\n",
       "      <td>31.08.2012</td>\n",
       "      <td>2.0</td>\n",
       "    </tr>\n",
       "    <tr>\n",
       "      <th>18</th>\n",
       "      <td>6565</td>\n",
       "      <td>1949</td>\n",
       "      <td>Master</td>\n",
       "      <td>Married</td>\n",
       "      <td>76995.0</td>\n",
       "      <td>0.0</td>\n",
       "      <td>28.03.2013</td>\n",
       "      <td>2.0</td>\n",
       "    </tr>\n",
       "    <tr>\n",
       "      <th>19</th>\n",
       "      <td>9360</td>\n",
       "      <td>1982</td>\n",
       "      <td>Graduation</td>\n",
       "      <td>Married</td>\n",
       "      <td>37040.0</td>\n",
       "      <td>0.0</td>\n",
       "      <td>08.08.2012</td>\n",
       "      <td>1.0</td>\n",
       "    </tr>\n",
       "  </tbody>\n",
       "</table>\n",
       "</div>"
      ],
      "text/plain": [
       "      ID  Year_Birth   Education Marital_Status   Income  Kidhome Dt_Customer  \\\n",
       "0   5524        1957  Graduation         Single  58138.0      0.0  04.09.2012   \n",
       "1   2174        1954  Graduation         Single  46344.0      1.0  08.03.2014   \n",
       "2   4141        1965  Graduation       Together  71613.0      0.0  21.08.2013   \n",
       "3   6182        1984  Graduation       Together  26646.0      1.0  10.02.2014   \n",
       "4   5324        1981         PhD        Married  58293.0      1.0  19.01.2014   \n",
       "5   7446        1967      Master       Together  62513.0      0.0  09.09.2013   \n",
       "6    965        1971  Graduation       Divorced  55635.0      0.0  13.11.2012   \n",
       "7   6177        1985         PhD        Married  33454.0      1.0  08.05.2013   \n",
       "8   4855        1974         PhD       Together  30351.0      1.0  06.06.2013   \n",
       "9   5899        1950         PhD       Together   5648.0      1.0  13.03.2014   \n",
       "10  1994        1983  Graduation        MARRIED      NaN      NaN         NaN   \n",
       "11   387        1976       Basic        Married   7500.0      0.0  13.11.2012   \n",
       "12  2125        1959  Graduation       Divorced  63033.0      0.0  15.11.2013   \n",
       "13  8180        1952      Master       Divorced  59354.0      1.0  15.11.2013   \n",
       "14  2569        1987  Graduation        Married  17323.0      0.0  10.10.2012   \n",
       "15  2114        1946         PhD          SINGL  82800.0      0.0  24.11.2012   \n",
       "16  9736        1980  Graduation        Married  41850.0      1.0  24.12.2012   \n",
       "17  4939        1946  Graduation       Together  37760.0      0.0  31.08.2012   \n",
       "18  6565        1949      Master        Married  76995.0      0.0  28.03.2013   \n",
       "19  9360        1982  Graduation        Married  37040.0      0.0  08.08.2012   \n",
       "\n",
       "    NumDealsPurchases  \n",
       "0                 3.0  \n",
       "1                 2.0  \n",
       "2                 1.0  \n",
       "3                 2.0  \n",
       "4                 5.0  \n",
       "5                 2.0  \n",
       "6                 4.0  \n",
       "7                 2.0  \n",
       "8                 1.0  \n",
       "9                 1.0  \n",
       "10                NaN  \n",
       "11                1.0  \n",
       "12                1.0  \n",
       "13                3.0  \n",
       "14                1.0  \n",
       "15                1.0  \n",
       "16                3.0  \n",
       "17                2.0  \n",
       "18                2.0  \n",
       "19                1.0  "
      ]
     },
     "execution_count": 2,
     "metadata": {},
     "output_type": "execute_result"
    }
   ],
   "source": [
    "# применить метод head\n",
    "df.head(20)"
   ]
  },
  {
   "cell_type": "markdown",
   "metadata": {
    "id": "Ze-lXxLMhpWv"
   },
   "source": [
    "2.2 Оценка данных с помощью метода info."
   ]
  },
  {
   "cell_type": "code",
   "execution_count": 3,
   "metadata": {
    "id": "bjhngmaLiGM-"
   },
   "outputs": [
    {
     "name": "stdout",
     "output_type": "stream",
     "text": [
      "<class 'pandas.core.frame.DataFrame'>\n",
      "RangeIndex: 796 entries, 0 to 795\n",
      "Data columns (total 8 columns):\n",
      " #   Column             Non-Null Count  Dtype  \n",
      "---  ------             --------------  -----  \n",
      " 0   ID                 796 non-null    int64  \n",
      " 1   Year_Birth         796 non-null    int64  \n",
      " 2   Education          796 non-null    object \n",
      " 3   Marital_Status     796 non-null    object \n",
      " 4   Income             784 non-null    float64\n",
      " 5   Kidhome            795 non-null    float64\n",
      " 6   Dt_Customer        795 non-null    object \n",
      " 7   NumDealsPurchases  795 non-null    float64\n",
      "dtypes: float64(3), int64(2), object(3)\n",
      "memory usage: 49.9+ KB\n"
     ]
    }
   ],
   "source": [
    "# выполнит метод info\n",
    "df.info()"
   ]
  },
  {
   "cell_type": "markdown",
   "metadata": {
    "id": "06PDq9DAiMAY"
   },
   "source": [
    "2.3 Оценка данных с помощью метода describe."
   ]
  },
  {
   "cell_type": "code",
   "execution_count": 4,
   "metadata": {
    "id": "cTVFwzO1jQfN"
   },
   "outputs": [
    {
     "data": {
      "text/html": [
       "<div>\n",
       "<style scoped>\n",
       "    .dataframe tbody tr th:only-of-type {\n",
       "        vertical-align: middle;\n",
       "    }\n",
       "\n",
       "    .dataframe tbody tr th {\n",
       "        vertical-align: top;\n",
       "    }\n",
       "\n",
       "    .dataframe thead th {\n",
       "        text-align: right;\n",
       "    }\n",
       "</style>\n",
       "<table border=\"1\" class=\"dataframe\">\n",
       "  <thead>\n",
       "    <tr style=\"text-align: right;\">\n",
       "      <th></th>\n",
       "      <th>ID</th>\n",
       "      <th>Year_Birth</th>\n",
       "      <th>Income</th>\n",
       "      <th>Kidhome</th>\n",
       "      <th>NumDealsPurchases</th>\n",
       "    </tr>\n",
       "  </thead>\n",
       "  <tbody>\n",
       "    <tr>\n",
       "      <th>count</th>\n",
       "      <td>796.000000</td>\n",
       "      <td>796.000000</td>\n",
       "      <td>784.00000</td>\n",
       "      <td>795.000000</td>\n",
       "      <td>795.000000</td>\n",
       "    </tr>\n",
       "    <tr>\n",
       "      <th>mean</th>\n",
       "      <td>5630.133166</td>\n",
       "      <td>1968.356784</td>\n",
       "      <td>53130.07398</td>\n",
       "      <td>0.438994</td>\n",
       "      <td>2.314465</td>\n",
       "    </tr>\n",
       "    <tr>\n",
       "      <th>std</th>\n",
       "      <td>3273.039715</td>\n",
       "      <td>12.022132</td>\n",
       "      <td>21818.56876</td>\n",
       "      <td>0.547252</td>\n",
       "      <td>1.941650</td>\n",
       "    </tr>\n",
       "    <tr>\n",
       "      <th>min</th>\n",
       "      <td>0.000000</td>\n",
       "      <td>1899.000000</td>\n",
       "      <td>2447.00000</td>\n",
       "      <td>0.000000</td>\n",
       "      <td>0.000000</td>\n",
       "    </tr>\n",
       "    <tr>\n",
       "      <th>25%</th>\n",
       "      <td>2853.000000</td>\n",
       "      <td>1959.000000</td>\n",
       "      <td>36141.75000</td>\n",
       "      <td>0.000000</td>\n",
       "      <td>1.000000</td>\n",
       "    </tr>\n",
       "    <tr>\n",
       "      <th>50%</th>\n",
       "      <td>5563.000000</td>\n",
       "      <td>1969.500000</td>\n",
       "      <td>52372.50000</td>\n",
       "      <td>0.000000</td>\n",
       "      <td>2.000000</td>\n",
       "    </tr>\n",
       "    <tr>\n",
       "      <th>75%</th>\n",
       "      <td>8584.250000</td>\n",
       "      <td>1977.000000</td>\n",
       "      <td>69293.25000</td>\n",
       "      <td>1.000000</td>\n",
       "      <td>3.000000</td>\n",
       "    </tr>\n",
       "    <tr>\n",
       "      <th>max</th>\n",
       "      <td>11191.000000</td>\n",
       "      <td>1995.000000</td>\n",
       "      <td>162397.00000</td>\n",
       "      <td>2.000000</td>\n",
       "      <td>15.000000</td>\n",
       "    </tr>\n",
       "  </tbody>\n",
       "</table>\n",
       "</div>"
      ],
      "text/plain": [
       "                 ID   Year_Birth        Income     Kidhome  NumDealsPurchases\n",
       "count    796.000000   796.000000     784.00000  795.000000         795.000000\n",
       "mean    5630.133166  1968.356784   53130.07398    0.438994           2.314465\n",
       "std     3273.039715    12.022132   21818.56876    0.547252           1.941650\n",
       "min        0.000000  1899.000000    2447.00000    0.000000           0.000000\n",
       "25%     2853.000000  1959.000000   36141.75000    0.000000           1.000000\n",
       "50%     5563.000000  1969.500000   52372.50000    0.000000           2.000000\n",
       "75%     8584.250000  1977.000000   69293.25000    1.000000           3.000000\n",
       "max    11191.000000  1995.000000  162397.00000    2.000000          15.000000"
      ]
     },
     "execution_count": 4,
     "metadata": {},
     "output_type": "execute_result"
    }
   ],
   "source": [
    "# оцените числовые столбцы с помощью describe\n",
    "df.describe()"
   ]
  },
  {
   "cell_type": "markdown",
   "metadata": {
    "id": "oOZUrZGuiGqc"
   },
   "source": [
    "\n",
    "---\n",
    "\n",
    "Данные выводятся с матрице, в которой к каждому столбцу применяются числовые функции, позволяющие более детально анализировать прочитанные данные.\n",
    "\n",
    "\n",
    " ---\n"
   ]
  },
  {
   "cell_type": "markdown",
   "metadata": {
    "id": "JTbo0IGDiHxn"
   },
   "source": [
    " 2.4 Оценка названий столбцов"
   ]
  },
  {
   "cell_type": "code",
   "execution_count": 5,
   "metadata": {
    "id": "9NEyi2Odik3e"
   },
   "outputs": [
    {
     "data": {
      "text/plain": [
       "Index(['ID', 'Year_Birth', 'Education', 'Marital_Status', 'Income', 'Kidhome',\n",
       "       'Dt_Customer', 'NumDealsPurchases'],\n",
       "      dtype='object')"
      ]
     },
     "execution_count": 5,
     "metadata": {},
     "output_type": "execute_result"
    }
   ],
   "source": [
    "# Вывести на экран названия столбцов с помощью df.columns. Выявить проблемы с названиями, если они есть. При необходимости переименовать столбцы. Если проблемы не обнаружены также дать пояснения.\n",
    "df.columns"
   ]
  },
  {
   "cell_type": "code",
   "execution_count": 6,
   "metadata": {
    "id": "QSJBLl4qjjP8"
   },
   "outputs": [
    {
     "data": {
      "text/plain": [
       "Index(['ID', 'Year_Birth', 'Education', 'Marital_Status', 'Income',\n",
       "       'KidAmount', 'RegistrDate', 'NumDealsPurchases'],\n",
       "      dtype='object')"
      ]
     },
     "execution_count": 6,
     "metadata": {},
     "output_type": "execute_result"
    }
   ],
   "source": [
    "# переименование при необходимости\n",
    "df = df.rename(columns={'Year_Birth': 'YearBirth', 'Marital_Status': 'MaritalStatus', 'Kidhome': 'KidAmount', 'Dt_Customer': 'RegistrDate'})\n",
    "df.columns"
   ]
  },
  {
   "cell_type": "markdown",
   "metadata": {
    "id": "V0tLQcyrjnA_"
   },
   "source": [
    "### 3. Проверка пропусков"
   ]
  },
  {
   "cell_type": "code",
   "execution_count": 7,
   "metadata": {
    "id": "xuTz-Avjj9AW"
   },
   "outputs": [
    {
     "name": "stdout",
     "output_type": "stream",
     "text": [
      "ID                    0\n",
      "Year_Birth            0\n",
      "Education             0\n",
      "Marital_Status        0\n",
      "Income               12\n",
      "KidAmount             1\n",
      "RegistrDate           1\n",
      "NumDealsPurchases     1\n",
      "dtype: int64\n",
      "ID                   0\n",
      "Year_Birth           0\n",
      "Education            0\n",
      "Marital_Status       0\n",
      "Income               0\n",
      "KidAmount            0\n",
      "RegistrDate          0\n",
      "NumDealsPurchases    0\n",
      "dtype: int64\n"
     ]
    }
   ],
   "source": [
    "# Проверить данные на наличие пропусков и устранить их, если они есть (пропуски необходимо либо удалить, либо заменить каким-то значением).\n",
    "print(df.isna().sum())\n",
    "\n",
    "df = df.dropna(subset=[\"Income\"])\n",
    "df[\"KidAmount\"] = df[\"KidAmount\"].fillna(0)\n",
    "df[\"RegistrDate\"] = df[\"RegistrDate\"].fillna(0)\n",
    "df[\"NumDealsPurchases\"] = df[\"NumDealsPurchases\"].fillna(0)\n",
    "\n",
    "print(df.isna().sum())\n"
   ]
  },
  {
   "cell_type": "markdown",
   "metadata": {
    "id": "efZ7vgSVkPQH"
   },
   "source": [
    "\n",
    "---\n",
    "\n",
    "В случае отсутствия значения заработка строка удаляется полностью, так как без этого значения остальные данные не имеют смысла. Столбцы KidAmount и RegistrDate не так важны для анализа, потому в случае отсутствия значения пустая ячейка заполняется нулём.\n",
    "\n",
    "\n",
    " ---"
   ]
  },
  {
   "cell_type": "markdown",
   "metadata": {
    "id": "kkyrXXHikEXk"
   },
   "source": [
    "### 4. Проверка дубликатов"
   ]
  },
  {
   "cell_type": "markdown",
   "metadata": {
    "id": "ImqHvr3okIQ6"
   },
   "source": [
    "#### Проверка явных дубликатов"
   ]
  },
  {
   "cell_type": "code",
   "execution_count": 8,
   "metadata": {
    "id": "qu1oh-e5lDZ1"
   },
   "outputs": [
    {
     "name": "stdout",
     "output_type": "stream",
     "text": [
      "       ID  Year_Birth   Education Marital_Status   Income  KidAmount  \\\n",
      "792  2853        1980  Graduation         Single  51766.0        1.0   \n",
      "793  2853        1980  Graduation         Single  51766.0        1.0   \n",
      "794  2853        1980  Graduation         Single  51766.0        1.0   \n",
      "795  2853        1980  Graduation         Single  51766.0        1.0   \n",
      "\n",
      "    RegistrDate  NumDealsPurchases  \n",
      "792  11.03.2014                2.0  \n",
      "793  11.03.2014                2.0  \n",
      "794  11.03.2014                2.0  \n",
      "795  11.03.2014                2.0  \n",
      "4\n"
     ]
    }
   ],
   "source": [
    "print(df[df.duplicated()])\n",
    "print(df.duplicated().sum())"
   ]
  },
  {
   "cell_type": "code",
   "execution_count": 9,
   "metadata": {
    "id": "ntArgvChkK26"
   },
   "outputs": [
    {
     "name": "stdout",
     "output_type": "stream",
     "text": [
      "Empty DataFrame\n",
      "Columns: [ID, Year_Birth, Education, Marital_Status, Income, KidAmount, RegistrDate, NumDealsPurchases]\n",
      "Index: []\n",
      "0\n"
     ]
    }
   ],
   "source": [
    "# удалите дубликаты, если они есть\n",
    "df = df.drop_duplicates().reset_index(drop=True)\n",
    "print(df[df.duplicated()])\n",
    "print(df.duplicated().sum())"
   ]
  },
  {
   "cell_type": "markdown",
   "metadata": {
    "id": "VeHTMcOmkLSw"
   },
   "source": [
    "#### Проверка неявных дубликатов"
   ]
  },
  {
   "cell_type": "code",
   "execution_count": 10,
   "metadata": {
    "id": "-uOPKHlVlGo8"
   },
   "outputs": [
    {
     "name": "stdout",
     "output_type": "stream",
     "text": [
      "['Graduation' 'PhD' 'Master' 'Basic']\n",
      "['Single' 'Together' 'Married' 'Divorced' 'SINGL' 'MARRIED' 'Widow'\n",
      " 'Alone']\n"
     ]
    }
   ],
   "source": [
    "print(df[\"Education\"].unique())\n",
    "print(df[\"MaritalStatus\"].unique())"
   ]
  },
  {
   "cell_type": "code",
   "execution_count": 11,
   "metadata": {
    "id": "89tMFEQ2k_M7"
   },
   "outputs": [
    {
     "name": "stdout",
     "output_type": "stream",
     "text": [
      "['Single' 'Together' 'Married' 'Divorced' 'Widow' 'Alone']\n"
     ]
    }
   ],
   "source": [
    "df[\"MaritalStatus\"] = df[\"MaritalStatus\"].replace(\"MARRIED\", \"Married\").replace(\"SINGL\", \"Single\")\n",
    "print(df[\"MaritalStatus\"].unique())"
   ]
  },
  {
   "cell_type": "markdown",
   "metadata": {
    "id": "GMcnDpOmlKhU"
   },
   "source": [
    "---\n",
    "\n",
    "Явные дубликаты, такие как повторяющиеся строки были полностью удалены, так как они являются перегрузом данных и не несут пользы. Неявные дубликаты, такие как неверное написание названий столбцов, были заменены на корректные варианты.\n",
    "\n",
    "\n",
    " ---"
   ]
  },
  {
   "cell_type": "markdown",
   "metadata": {
    "id": "md9GhfYMlbi7"
   },
   "source": [
    "### 5. Провека типов данных"
   ]
  },
  {
   "cell_type": "code",
   "execution_count": 15,
   "metadata": {
    "id": "WXhXgu29lop3"
   },
   "outputs": [
    {
     "name": "stdout",
     "output_type": "stream",
     "text": [
      "<class 'pandas.core.frame.DataFrame'>\n",
      "RangeIndex: 780 entries, 0 to 779\n",
      "Data columns (total 8 columns):\n",
      " #   Column             Non-Null Count  Dtype         \n",
      "---  ------             --------------  -----         \n",
      " 0   ID                 780 non-null    int64         \n",
      " 1   Year_Birth         780 non-null    int64         \n",
      " 2   Education          780 non-null    object        \n",
      " 3   Marital_Status     780 non-null    object        \n",
      " 4   Income             780 non-null    float64       \n",
      " 5   KidAmount          780 non-null    int64         \n",
      " 6   RegistrDate        780 non-null    datetime64[ns]\n",
      " 7   NumDealsPurchases  780 non-null    int64         \n",
      "dtypes: datetime64[ns](1), float64(1), int64(4), object(2)\n",
      "memory usage: 48.9+ KB\n"
     ]
    }
   ],
   "source": [
    "# Проверьте типы данных, при необходимости измените типы данных, чтобы они соответствовали действительности.\n",
    "df[\"KidAmount\"] = df[\"KidAmount\"].astype(\"int64\")\n",
    "df[\"NumDealsPurchases\"] = df[\"NumDealsPurchases\"].astype(\"int64\")\n",
    "df[\"RegistrDate\"] = pd.to_datetime(df[\"RegistrDate\"], format=\"%d.%m.%Y\")\n",
    "df.info()"
   ]
  },
  {
   "cell_type": "markdown",
   "metadata": {
    "id": "DPDBNN4dlx7W"
   },
   "source": [
    "---\n",
    "\n",
    "Столбец даты по умолчанию определяется как Object, а потому был приведёт к типу даты. Столбцы KidAmount и NumDealsPurchases отвечают за количественные значения, которые не могут быть дробными, поэтому тип float64 был заменён на тип int64.\n",
    "\n",
    "\n",
    " ---"
   ]
  },
  {
   "cell_type": "markdown",
   "metadata": {
    "id": "lzr0SgqlnmHy"
   },
   "source": [
    "### 6. Группировка данных"
   ]
  },
  {
   "cell_type": "markdown",
   "metadata": {
    "id": "QG_dbwzfmZoS"
   },
   "source": [
    "#### Задание 1"
   ]
  },
  {
   "cell_type": "markdown",
   "metadata": {
    "id": "CyCKTB4DmciW"
   },
   "source": [
    "*` Группировка - тип образования по каждому семейному статусу\n",
    "(marital_status).`*"
   ]
  },
  {
   "cell_type": "code",
   "execution_count": 45,
   "metadata": {
    "id": "tp8Bl1gumYlI"
   },
   "outputs": [
    {
     "data": {
      "text/plain": [
       "Education   Marital_Status\n",
       "Basic       Divorced            1\n",
       "            Married             9\n",
       "            Single              1\n",
       "            Together            4\n",
       "Graduation  Alone               1\n",
       "            Divorced           49\n",
       "            Married           168\n",
       "            Single             97\n",
       "            Together           96\n",
       "            Widow              21\n",
       "Master      Alone               1\n",
       "            Divorced           12\n",
       "            Married            57\n",
       "            Single             31\n",
       "            Together           41\n",
       "            Widow               4\n",
       "PhD         Alone               1\n",
       "            Divorced           23\n",
       "            Married            68\n",
       "            Single             40\n",
       "            Together           51\n",
       "            Widow               4\n",
       "dtype: int64"
      ]
     },
     "execution_count": 45,
     "metadata": {},
     "output_type": "execute_result"
    }
   ],
   "source": [
    "# выполните группировку согласно варианту\n",
    "df.groupby([\"Education\", \"MaritalStatus\"]).size()"
   ]
  },
  {
   "cell_type": "markdown",
   "metadata": {
    "id": "jLmhNuq0mms3"
   },
   "source": [
    "Результатом является сгруппированный объект, содержащий в себе подсчёт людей с разными семейными положениями, разделённые по категориям образования."
   ]
  },
  {
   "cell_type": "markdown",
   "metadata": {
    "id": "j0isGCzEne7a"
   },
   "source": [
    "#### Задание 2"
   ]
  },
  {
   "cell_type": "markdown",
   "metadata": {
    "id": "kE2vLBWbne7a"
   },
   "source": [
    "*`Группировка - семейный статус (marital_status) по количеству детей.\n",
    "Создать датафрейм. Переименовать столбец с количеством в “сount”.\n",
    "Отсортировать по убыванию столбца “count”.`*"
   ]
  },
  {
   "cell_type": "code",
   "execution_count": 51,
   "metadata": {
    "id": "ttn78Zaene7a"
   },
   "outputs": [
    {
     "data": {
      "text/html": [
       "<div>\n",
       "<style scoped>\n",
       "    .dataframe tbody tr th:only-of-type {\n",
       "        vertical-align: middle;\n",
       "    }\n",
       "\n",
       "    .dataframe tbody tr th {\n",
       "        vertical-align: top;\n",
       "    }\n",
       "\n",
       "    .dataframe thead th {\n",
       "        text-align: right;\n",
       "    }\n",
       "</style>\n",
       "<table border=\"1\" class=\"dataframe\">\n",
       "  <thead>\n",
       "    <tr style=\"text-align: right;\">\n",
       "      <th></th>\n",
       "      <th>Marital_Status</th>\n",
       "      <th>Count</th>\n",
       "    </tr>\n",
       "  </thead>\n",
       "  <tbody>\n",
       "    <tr>\n",
       "      <th>2</th>\n",
       "      <td>Married</td>\n",
       "      <td>302</td>\n",
       "    </tr>\n",
       "    <tr>\n",
       "      <th>4</th>\n",
       "      <td>Together</td>\n",
       "      <td>192</td>\n",
       "    </tr>\n",
       "    <tr>\n",
       "      <th>3</th>\n",
       "      <td>Single</td>\n",
       "      <td>169</td>\n",
       "    </tr>\n",
       "    <tr>\n",
       "      <th>1</th>\n",
       "      <td>Divorced</td>\n",
       "      <td>85</td>\n",
       "    </tr>\n",
       "    <tr>\n",
       "      <th>5</th>\n",
       "      <td>Widow</td>\n",
       "      <td>29</td>\n",
       "    </tr>\n",
       "    <tr>\n",
       "      <th>0</th>\n",
       "      <td>Alone</td>\n",
       "      <td>3</td>\n",
       "    </tr>\n",
       "  </tbody>\n",
       "</table>\n",
       "</div>"
      ],
      "text/plain": [
       "  Marital_Status  Count\n",
       "2        Married    302\n",
       "4       Together    192\n",
       "3         Single    169\n",
       "1       Divorced     85\n",
       "5          Widow     29\n",
       "0          Alone      3"
      ]
     },
     "execution_count": 51,
     "metadata": {},
     "output_type": "execute_result"
    }
   ],
   "source": [
    "# выполните группировку согласно варианту\n",
    "df_grouped = df.groupby(\"MaritalStatus\")[\"KidAmount\"].count().reset_index(name=\"Count\")\n",
    "df_grouped.sort_values(by=\"Count\", ascending=False)"
   ]
  },
  {
   "cell_type": "markdown",
   "metadata": {
    "id": "HCyyeAu6ne7a"
   },
   "source": [
    "Результатом является объект DataFrame, полученный после группировки исходной таблицы, который содержит подсчёт людей с разным семейным положением, отсортированный в обратном порядке."
   ]
  },
  {
   "cell_type": "markdown",
   "metadata": {
    "id": "_3fHGp64nhUJ"
   },
   "source": [
    "#### Задание 3"
   ]
  },
  {
   "cell_type": "markdown",
   "metadata": {
    "id": "_Bc4ehyKnhUJ"
   },
   "source": [
    "*`Сводная таблица (pivot_table) - средний доход семьи по семейному\n",
    "положению. Отсортировать по убыванию. Округлить до двух знаков.`*"
   ]
  },
  {
   "cell_type": "code",
   "execution_count": 56,
   "metadata": {
    "id": "siDovPvQnhUJ"
   },
   "outputs": [
    {
     "data": {
      "text/html": [
       "<div>\n",
       "<style scoped>\n",
       "    .dataframe tbody tr th:only-of-type {\n",
       "        vertical-align: middle;\n",
       "    }\n",
       "\n",
       "    .dataframe tbody tr th {\n",
       "        vertical-align: top;\n",
       "    }\n",
       "\n",
       "    .dataframe thead th {\n",
       "        text-align: right;\n",
       "    }\n",
       "</style>\n",
       "<table border=\"1\" class=\"dataframe\">\n",
       "  <thead>\n",
       "    <tr style=\"text-align: right;\">\n",
       "      <th></th>\n",
       "      <th>Income</th>\n",
       "    </tr>\n",
       "    <tr>\n",
       "      <th>Marital_Status</th>\n",
       "      <th></th>\n",
       "    </tr>\n",
       "  </thead>\n",
       "  <tbody>\n",
       "    <tr>\n",
       "      <th>Widow</th>\n",
       "      <td>55452.45</td>\n",
       "    </tr>\n",
       "    <tr>\n",
       "      <th>Divorced</th>\n",
       "      <td>54568.16</td>\n",
       "    </tr>\n",
       "    <tr>\n",
       "      <th>Together</th>\n",
       "      <td>54502.84</td>\n",
       "    </tr>\n",
       "    <tr>\n",
       "      <th>Married</th>\n",
       "      <td>52898.34</td>\n",
       "    </tr>\n",
       "    <tr>\n",
       "      <th>Single</th>\n",
       "      <td>51060.87</td>\n",
       "    </tr>\n",
       "    <tr>\n",
       "      <th>Alone</th>\n",
       "      <td>43789.00</td>\n",
       "    </tr>\n",
       "  </tbody>\n",
       "</table>\n",
       "</div>"
      ],
      "text/plain": [
       "                  Income\n",
       "Marital_Status          \n",
       "Widow           55452.45\n",
       "Divorced        54568.16\n",
       "Together        54502.84\n",
       "Married         52898.34\n",
       "Single          51060.87\n",
       "Alone           43789.00"
      ]
     },
     "execution_count": 56,
     "metadata": {},
     "output_type": "execute_result"
    }
   ],
   "source": [
    "# выполните сводную таблицу согласно варианту\n",
    "income_pivot = df.pivot_table(index=\"MaritalStatus\", values=\"Income\", aggfunc=\"mean\")\n",
    "income_pivot.sort_values(by=\"Income\", ascending=False).round(2)"
   ]
  },
  {
   "cell_type": "markdown",
   "metadata": {
    "id": "1-vw8iyUnhUK"
   },
   "source": [
    "Результатом является отсортированная в обратном порядке сводная таблица, содержащая среднестатистический заработок людей с разным семейным положением."
   ]
  },
  {
   "cell_type": "markdown",
   "metadata": {
    "id": "FOlw74xCniNo"
   },
   "source": [
    "#### Задание 4"
   ]
  },
  {
   "cell_type": "markdown",
   "metadata": {
    "id": "4tvYwT25niNq"
   },
   "source": [
    "*`Сводная таблица (pivot_table) - среднее количество покупок по уровню\n",
    "образованию - строки и году рождения - столбцы. Отсортировать по возрастанию\n",
    "education. Округлить до двух знаков.`*"
   ]
  },
  {
   "cell_type": "code",
   "execution_count": 63,
   "metadata": {
    "id": "TfJ719g6niNq"
   },
   "outputs": [
    {
     "data": {
      "text/html": [
       "<div>\n",
       "<style scoped>\n",
       "    .dataframe tbody tr th:only-of-type {\n",
       "        vertical-align: middle;\n",
       "    }\n",
       "\n",
       "    .dataframe tbody tr th {\n",
       "        vertical-align: top;\n",
       "    }\n",
       "\n",
       "    .dataframe thead th {\n",
       "        text-align: right;\n",
       "    }\n",
       "</style>\n",
       "<table border=\"1\" class=\"dataframe\">\n",
       "  <thead>\n",
       "    <tr style=\"text-align: right;\">\n",
       "      <th>Year_Birth</th>\n",
       "      <th>1899</th>\n",
       "      <th>1941</th>\n",
       "      <th>1943</th>\n",
       "      <th>1944</th>\n",
       "      <th>1945</th>\n",
       "      <th>1946</th>\n",
       "      <th>1947</th>\n",
       "      <th>1948</th>\n",
       "      <th>1949</th>\n",
       "      <th>1950</th>\n",
       "      <th>...</th>\n",
       "      <th>1986</th>\n",
       "      <th>1987</th>\n",
       "      <th>1988</th>\n",
       "      <th>1989</th>\n",
       "      <th>1990</th>\n",
       "      <th>1991</th>\n",
       "      <th>1992</th>\n",
       "      <th>1993</th>\n",
       "      <th>1994</th>\n",
       "      <th>1995</th>\n",
       "    </tr>\n",
       "    <tr>\n",
       "      <th>Education</th>\n",
       "      <th></th>\n",
       "      <th></th>\n",
       "      <th></th>\n",
       "      <th></th>\n",
       "      <th></th>\n",
       "      <th></th>\n",
       "      <th></th>\n",
       "      <th></th>\n",
       "      <th></th>\n",
       "      <th></th>\n",
       "      <th></th>\n",
       "      <th></th>\n",
       "      <th></th>\n",
       "      <th></th>\n",
       "      <th></th>\n",
       "      <th></th>\n",
       "      <th></th>\n",
       "      <th></th>\n",
       "      <th></th>\n",
       "      <th></th>\n",
       "      <th></th>\n",
       "    </tr>\n",
       "  </thead>\n",
       "  <tbody>\n",
       "    <tr>\n",
       "      <th>Basic</th>\n",
       "      <td>0.0</td>\n",
       "      <td>0.0</td>\n",
       "      <td>0.0</td>\n",
       "      <td>0.0</td>\n",
       "      <td>0.0</td>\n",
       "      <td>0.00</td>\n",
       "      <td>0.0</td>\n",
       "      <td>0.00</td>\n",
       "      <td>0.0</td>\n",
       "      <td>0.00</td>\n",
       "      <td>...</td>\n",
       "      <td>2.00</td>\n",
       "      <td>2.00</td>\n",
       "      <td>0.00</td>\n",
       "      <td>1.00</td>\n",
       "      <td>1.0</td>\n",
       "      <td>0.0</td>\n",
       "      <td>0.0</td>\n",
       "      <td>0.0</td>\n",
       "      <td>0.0</td>\n",
       "      <td>0.0</td>\n",
       "    </tr>\n",
       "    <tr>\n",
       "      <th>Graduation</th>\n",
       "      <td>0.0</td>\n",
       "      <td>0.0</td>\n",
       "      <td>0.0</td>\n",
       "      <td>1.0</td>\n",
       "      <td>0.0</td>\n",
       "      <td>1.67</td>\n",
       "      <td>1.0</td>\n",
       "      <td>1.00</td>\n",
       "      <td>1.0</td>\n",
       "      <td>2.00</td>\n",
       "      <td>...</td>\n",
       "      <td>1.29</td>\n",
       "      <td>1.67</td>\n",
       "      <td>1.92</td>\n",
       "      <td>1.88</td>\n",
       "      <td>1.0</td>\n",
       "      <td>1.0</td>\n",
       "      <td>1.0</td>\n",
       "      <td>1.0</td>\n",
       "      <td>1.0</td>\n",
       "      <td>1.0</td>\n",
       "    </tr>\n",
       "    <tr>\n",
       "      <th>Master</th>\n",
       "      <td>0.0</td>\n",
       "      <td>0.0</td>\n",
       "      <td>1.0</td>\n",
       "      <td>1.0</td>\n",
       "      <td>1.0</td>\n",
       "      <td>1.00</td>\n",
       "      <td>1.0</td>\n",
       "      <td>1.00</td>\n",
       "      <td>2.2</td>\n",
       "      <td>5.00</td>\n",
       "      <td>...</td>\n",
       "      <td>2.50</td>\n",
       "      <td>1.00</td>\n",
       "      <td>1.00</td>\n",
       "      <td>2.00</td>\n",
       "      <td>0.0</td>\n",
       "      <td>0.0</td>\n",
       "      <td>1.0</td>\n",
       "      <td>0.0</td>\n",
       "      <td>0.0</td>\n",
       "      <td>0.0</td>\n",
       "    </tr>\n",
       "    <tr>\n",
       "      <th>PhD</th>\n",
       "      <td>1.0</td>\n",
       "      <td>0.0</td>\n",
       "      <td>1.5</td>\n",
       "      <td>1.0</td>\n",
       "      <td>1.5</td>\n",
       "      <td>2.00</td>\n",
       "      <td>1.0</td>\n",
       "      <td>2.43</td>\n",
       "      <td>2.5</td>\n",
       "      <td>1.67</td>\n",
       "      <td>...</td>\n",
       "      <td>1.50</td>\n",
       "      <td>0.00</td>\n",
       "      <td>1.00</td>\n",
       "      <td>1.00</td>\n",
       "      <td>0.0</td>\n",
       "      <td>1.0</td>\n",
       "      <td>0.0</td>\n",
       "      <td>0.0</td>\n",
       "      <td>0.0</td>\n",
       "      <td>0.0</td>\n",
       "    </tr>\n",
       "  </tbody>\n",
       "</table>\n",
       "<p>4 rows × 55 columns</p>\n",
       "</div>"
      ],
      "text/plain": [
       "Year_Birth  1899  1941  1943  1944  1945  1946  1947  1948  1949  1950  ...  \\\n",
       "Education                                                               ...   \n",
       "Basic        0.0   0.0   0.0   0.0   0.0  0.00   0.0  0.00   0.0  0.00  ...   \n",
       "Graduation   0.0   0.0   0.0   1.0   0.0  1.67   1.0  1.00   1.0  2.00  ...   \n",
       "Master       0.0   0.0   1.0   1.0   1.0  1.00   1.0  1.00   2.2  5.00  ...   \n",
       "PhD          1.0   0.0   1.5   1.0   1.5  2.00   1.0  2.43   2.5  1.67  ...   \n",
       "\n",
       "Year_Birth  1986  1987  1988  1989  1990  1991  1992  1993  1994  1995  \n",
       "Education                                                               \n",
       "Basic       2.00  2.00  0.00  1.00   1.0   0.0   0.0   0.0   0.0   0.0  \n",
       "Graduation  1.29  1.67  1.92  1.88   1.0   1.0   1.0   1.0   1.0   1.0  \n",
       "Master      2.50  1.00  1.00  2.00   0.0   0.0   1.0   0.0   0.0   0.0  \n",
       "PhD         1.50  0.00  1.00  1.00   0.0   1.0   0.0   0.0   0.0   0.0  \n",
       "\n",
       "[4 rows x 55 columns]"
      ]
     },
     "execution_count": 63,
     "metadata": {},
     "output_type": "execute_result"
    }
   ],
   "source": [
    "# выполните сводную таблицу согласно варианту\n",
    "deals_pivot = df.pivot_table(index=\"Education\", columns=\"YearBirth\", values=\"NumDealsPurchases\", aggfunc=\"mean\", fill_value=0)\n",
    "deals_pivot.sort_index().round(2)"
   ]
  },
  {
   "cell_type": "markdown",
   "metadata": {
    "id": "yqJqvk5qniNr"
   },
   "source": [
    "Результом является сводная таблица, отражающая среднее количество покупок людей, разделённых по образованию и году рождения. Отсутствующие значения были обозначены нулём, а уровни образования отсортированны в порядке возрастания."
   ]
  },
  {
   "cell_type": "markdown",
   "metadata": {
    "id": "TpnXb6gip3S8"
   },
   "source": [
    "### Вывод"
   ]
  },
  {
   "cell_type": "markdown",
   "metadata": {
    "id": "nqLa096jM1Z8"
   },
   "source": [
    "\n",
    "В ходе выполнения работы освоены навыки работы в Jupyter notebook, являющейся удобной интерактивной средой для анализа данных. Она позволяет запускать фрагменты кода по частям и сразу же видеть результат, а также использовать Markdown-разметку. Была изучена работа с библиотекой pandas, которая позволяет обрабатывать, анализировать и организовывать файлы (в случае лабораторной работы - файл .csv). Были затронуты оценка данных по тем или иным параметрам, группировка таблиц и организация сводных таблиц в Python.\n"
   ]
  },
  {
   "cell_type": "markdown",
   "metadata": {
    "id": "Sn3y7og_vjGG"
   },
   "source": [
    "### Дополнительное задание"
   ]
  },
  {
   "cell_type": "markdown",
   "metadata": {
    "id": "rR6WgHXYvlqD"
   },
   "source": [
    "**`Подробная формулировка задания`**"
   ]
  },
  {
   "cell_type": "code",
   "execution_count": null,
   "metadata": {
    "id": "wG5TGQpevlBq"
   },
   "outputs": [],
   "source": [
    "# код выполнения задания"
   ]
  },
  {
   "cell_type": "markdown",
   "metadata": {
    "id": "y-qpTuhTvon3"
   },
   "source": [
    "***`Подробный вывод по заданию, описание полученных результатов`***"
   ]
  }
 ],
 "metadata": {
  "colab": {
   "provenance": []
  },
  "kernelspec": {
   "display_name": "Python 3 (ipykernel)",
   "language": "python",
   "name": "python3"
  },
  "language_info": {
   "codemirror_mode": {
    "name": "ipython",
    "version": 3
   },
   "file_extension": ".py",
   "mimetype": "text/x-python",
   "name": "python",
   "nbconvert_exporter": "python",
   "pygments_lexer": "ipython3",
   "version": "3.13.2"
  }
 },
 "nbformat": 4,
 "nbformat_minor": 4
}
